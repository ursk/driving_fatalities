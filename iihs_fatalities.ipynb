{
  "cells": [
    {
      "cell_type": "code",
      "execution_count": 1,
      "metadata": {
        "colab": {
          "base_uri": "https://localhost:8080/"
        },
        "id": "YPV5phvgnECr",
        "outputId": "eb09b2a4-a982-4dc6-86ac-5240d2f796ac"
      },
      "outputs": [
        {
          "output_type": "stream",
          "name": "stderr",
          "text": [
            "WARNING (theano.configdefaults): install mkl with `conda install mkl-service`: No module named 'mkl'\n"
          ]
        }
      ],
      "source": [
        "import pymc3 as pm \n",
        "import pandas as pd\n",
        "import numpy as np"
      ]
    },
    {
      "cell_type": "code",
      "execution_count": 5,
      "metadata": {
        "id": "P7e2_06LnECs"
      },
      "outputs": [],
      "source": [
        "df = pd.read_csv('iihs2020.csv')"
      ]
    },
    {
      "cell_type": "code",
      "execution_count": 7,
      "metadata": {
        "colab": {
          "base_uri": "https://localhost:8080/",
          "height": 206
        },
        "id": "20d9aKyunECt",
        "outputId": "b316aff2-adb4-4ed1-8b9a-5c554a8b9344"
      },
      "outputs": [
        {
          "output_type": "execute_result",
          "data": {
            "text/plain": [
              "                         model  size   type  deaths  class interval    MV  \\\n",
              "0  Mitsubishi Mirage hatchback     1  car4d      72  4door   28-115  52.0   \n",
              "1                      Kia Rio     1  car4d      87  4door   40-134  51.0   \n",
              "2               Hyundai Accent     1  car4d     116  4door   74-158  85.0   \n",
              "3                  Ford Fiesta     1  car4d     141  4door   94-189  98.0   \n",
              "4              Volkswagen Golf     2  car4d       0  4door     0-34   0.0   \n",
              "\n",
              "     SV  roll model years exposure  \n",
              "0  18.0   5.0     2014-17  171,842  \n",
              "1  38.0   0.0     2014-17  204,326  \n",
              "2  28.0   9.0     2014-17  417,171  \n",
              "3  46.0  13.0     2014-17  357,492  \n",
              "4   0.0   0.0     2014-17  108,084  "
            ],
            "text/html": [
              "<div>\n",
              "<style scoped>\n",
              "    .dataframe tbody tr th:only-of-type {\n",
              "        vertical-align: middle;\n",
              "    }\n",
              "\n",
              "    .dataframe tbody tr th {\n",
              "        vertical-align: top;\n",
              "    }\n",
              "\n",
              "    .dataframe thead th {\n",
              "        text-align: right;\n",
              "    }\n",
              "</style>\n",
              "<table border=\"1\" class=\"dataframe\">\n",
              "  <thead>\n",
              "    <tr style=\"text-align: right;\">\n",
              "      <th></th>\n",
              "      <th>model</th>\n",
              "      <th>size</th>\n",
              "      <th>type</th>\n",
              "      <th>deaths</th>\n",
              "      <th>class</th>\n",
              "      <th>interval</th>\n",
              "      <th>MV</th>\n",
              "      <th>SV</th>\n",
              "      <th>roll</th>\n",
              "      <th>model years</th>\n",
              "      <th>exposure</th>\n",
              "    </tr>\n",
              "  </thead>\n",
              "  <tbody>\n",
              "    <tr>\n",
              "      <th>0</th>\n",
              "      <td>Mitsubishi Mirage hatchback</td>\n",
              "      <td>1</td>\n",
              "      <td>car4d</td>\n",
              "      <td>72</td>\n",
              "      <td>4door</td>\n",
              "      <td>28-115</td>\n",
              "      <td>52.0</td>\n",
              "      <td>18.0</td>\n",
              "      <td>5.0</td>\n",
              "      <td>2014-17</td>\n",
              "      <td>171,842</td>\n",
              "    </tr>\n",
              "    <tr>\n",
              "      <th>1</th>\n",
              "      <td>Kia Rio</td>\n",
              "      <td>1</td>\n",
              "      <td>car4d</td>\n",
              "      <td>87</td>\n",
              "      <td>4door</td>\n",
              "      <td>40-134</td>\n",
              "      <td>51.0</td>\n",
              "      <td>38.0</td>\n",
              "      <td>0.0</td>\n",
              "      <td>2014-17</td>\n",
              "      <td>204,326</td>\n",
              "    </tr>\n",
              "    <tr>\n",
              "      <th>2</th>\n",
              "      <td>Hyundai Accent</td>\n",
              "      <td>1</td>\n",
              "      <td>car4d</td>\n",
              "      <td>116</td>\n",
              "      <td>4door</td>\n",
              "      <td>74-158</td>\n",
              "      <td>85.0</td>\n",
              "      <td>28.0</td>\n",
              "      <td>9.0</td>\n",
              "      <td>2014-17</td>\n",
              "      <td>417,171</td>\n",
              "    </tr>\n",
              "    <tr>\n",
              "      <th>3</th>\n",
              "      <td>Ford Fiesta</td>\n",
              "      <td>1</td>\n",
              "      <td>car4d</td>\n",
              "      <td>141</td>\n",
              "      <td>4door</td>\n",
              "      <td>94-189</td>\n",
              "      <td>98.0</td>\n",
              "      <td>46.0</td>\n",
              "      <td>13.0</td>\n",
              "      <td>2014-17</td>\n",
              "      <td>357,492</td>\n",
              "    </tr>\n",
              "    <tr>\n",
              "      <th>4</th>\n",
              "      <td>Volkswagen Golf</td>\n",
              "      <td>2</td>\n",
              "      <td>car4d</td>\n",
              "      <td>0</td>\n",
              "      <td>4door</td>\n",
              "      <td>0-34</td>\n",
              "      <td>0.0</td>\n",
              "      <td>0.0</td>\n",
              "      <td>0.0</td>\n",
              "      <td>2014-17</td>\n",
              "      <td>108,084</td>\n",
              "    </tr>\n",
              "  </tbody>\n",
              "</table>\n",
              "</div>"
            ]
          },
          "metadata": {},
          "execution_count": 7
        }
      ],
      "source": [
        "df.head()"
      ]
    },
    {
      "cell_type": "code",
      "source": [],
      "metadata": {
        "id": "tYoEhrT1nm6U"
      },
      "execution_count": null,
      "outputs": []
    }
  ],
  "metadata": {
    "kernelspec": {
      "display_name": "Python 3 (ipykernel)",
      "language": "python",
      "name": "python3"
    },
    "language_info": {
      "codemirror_mode": {
        "name": "ipython",
        "version": 3
      },
      "file_extension": ".py",
      "mimetype": "text/x-python",
      "name": "python",
      "nbconvert_exporter": "python",
      "pygments_lexer": "ipython3",
      "version": "3.10.11"
    },
    "colab": {
      "provenance": []
    }
  },
  "nbformat": 4,
  "nbformat_minor": 0
}